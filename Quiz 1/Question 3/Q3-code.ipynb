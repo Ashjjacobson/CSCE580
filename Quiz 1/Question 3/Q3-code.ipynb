{
 "cells": [
  {
   "cell_type": "code",
   "execution_count": 3,
   "id": "a18a89c4",
   "metadata": {},
   "outputs": [
    {
     "name": "stdout",
     "output_type": "stream",
     "text": [
      "<class 'pandas.core.frame.DataFrame'>\n",
      "RangeIndex: 2200 entries, 0 to 2199\n",
      "Data columns (total 8 columns):\n",
      " #   Column                 Non-Null Count  Dtype \n",
      "---  ------                 --------------  ----- \n",
      " 0   XREF ID                2200 non-null   int64 \n",
      " 1   DISPATCH UNIT          2200 non-null   object\n",
      " 2   DISPATCH CREATED DATE  2200 non-null   object\n",
      " 3   INCIDENT NUMBER        2200 non-null   object\n",
      " 4   1ST UNIT ON SCENE      1772 non-null   object\n",
      " 5   ALARM DATE TIME        2169 non-null   object\n",
      " 6   CALL COMPLETE          2169 non-null   object\n",
      " 7   SHIFT                  2131 non-null   object\n",
      "dtypes: int64(1), object(7)\n",
      "memory usage: 137.6+ KB\n"
     ]
    }
   ],
   "source": [
    "import pandas as pd\n",
    "import re\n",
    "\n",
    "file_path = './Redacted-Department _ CAD Reconciliation.csv'\n",
    "\n",
    "variablename = pd.read_csv(file_path)\n",
    "variablename.info()"
   ]
  },
  {
   "cell_type": "code",
   "execution_count": 11,
   "id": "f5998cf7",
   "metadata": {},
   "outputs": [
    {
     "data": {
      "text/plain": [
       "XREF ID                   0.000000\n",
       "DISPATCH UNIT             0.000000\n",
       "DISPATCH CREATED DATE     0.000000\n",
       "INCIDENT NUMBER           0.000000\n",
       "1ST UNIT ON SCENE        19.454545\n",
       "ALARM DATE TIME           1.409091\n",
       "CALL COMPLETE             1.409091\n",
       "SHIFT                     3.136364\n",
       "dtype: float64"
      ]
     },
     "execution_count": 11,
     "metadata": {},
     "output_type": "execute_result"
    }
   ],
   "source": [
    "(variablename.isna().mean()*100)"
   ]
  }
 ],
 "metadata": {
  "kernelspec": {
   "display_name": "sklearn (3.9.6)",
   "language": "python",
   "name": "python3"
  },
  "language_info": {
   "codemirror_mode": {
    "name": "ipython",
    "version": 3
   },
   "file_extension": ".py",
   "mimetype": "text/x-python",
   "name": "python",
   "nbconvert_exporter": "python",
   "pygments_lexer": "ipython3",
   "version": "3.9.6"
  }
 },
 "nbformat": 4,
 "nbformat_minor": 5
}
